{
 "nbformat": 4,
 "nbformat_minor": 2,
 "metadata": {
  "language_info": {
   "name": "python",
   "codemirror_mode": {
    "name": "ipython",
    "version": 3
   },
   "version": "3.6.5-final"
  },
  "orig_nbformat": 2,
  "file_extension": ".py",
  "mimetype": "text/x-python",
  "name": "python",
  "npconvert_exporter": "python",
  "pygments_lexer": "ipython3",
  "version": 3,
  "kernelspec": {
   "name": "python36564bitanaconda3conda4d2a131d00244148923b6e8eafe61e3b",
   "display_name": "Python 3.6.5 64-bit ('Anaconda3': conda)"
  }
 },
 "cells": [
  {
   "cell_type": "markdown",
   "execution_count": null,
   "metadata": {},
   "outputs": [],
   "source": [
    "## 3.1\n",
    "\n",
    "$$P(am|<s>,I)=\\frac{1}{2}=0.5$$\n",
    "$$P(Sam | I,am)=\\frac{1}{2}=0.5$$\n",
    "$$P(</s>|am Sam)=\\frac{1}{1}=1$$\n",
    "$$P(I|<s>,Sam)=\\frac{1}{1}=1$$"
   ]
  },
  {
   "cell_type": "markdown",
   "execution_count": null,
   "metadata": {},
   "outputs": [],
   "source": [
    "## 3.2\n",
    "$$P(<s> i want chinese food) = P(i|<s>)P(want|i)P(chinese|want)P(food|chinese)\\\\=0.25\\times0.33\\times0.0065\\times0.52=0.00027885$$\n",
    "\n",
    "$$P(<s> i want chinese food) = P(i|<s>)P(want|i)P(chinese|want)P(food|chinese)\\\\=0.25\\times0.21\\times0.0029\\times0.052=0.000007917$$"
   ]
  },
  {
   "cell_type": "markdown",
   "execution_count": null,
   "metadata": {},
   "outputs": [],
   "source": [
    "## 3.3\n",
    "The first probability is higher without smoothing. Because without applyting smooth, frequent bigrams have higher probability than those in smoothed distribution."
   ]
  },
  {
   "cell_type": "markdown",
   "execution_count": null,
   "metadata": {},
   "outputs": [],
   "source": [
    "## 3.4\n"
   ]
  },
  {
   "cell_type": "code",
   "execution_count": 34,
   "metadata": {},
   "outputs": [
    {
     "name": "stdout",
     "output_type": "stream",
     "text": "[['<s>', 'I', 'am', 'Sam', '</s>'], ['<s>', 'Sam', 'I', 'am', '</s>'], ['<s>', 'I', 'am', 'Sam', '</s>'], ['<s>', 'I', 'do', 'not', 'like', 'green', 'eggs', 'and', 'Sam', '</s>']]\n0.21428571428571427\n"
    }
   ],
   "source": [
    "sens = ['<s> I am Sam </s>','<s> Sam I am </s>', '<s> I am Sam </s>', '<s> I do not like green eggs and Sam </s>']\n",
    "sen_wds = []\n",
    "for sen in sens:\n",
    "    sen_wds.append(sen.split())\n",
    "print(sen_wds)\n",
    "\n",
    "def add1smooth(sens, pre, cur):\n",
    "    Vocab = set()\n",
    "    for sen in sens:\n",
    "        for wd in sen:\n",
    "            Vocab.add(wd)\n",
    "    V = len(Vocab)\n",
    "    total = target = 0\n",
    "    for sen in sens:\n",
    "        for i in range(len(sen)-1):\n",
    "            if sen[i] == pre:\n",
    "                total += 1\n",
    "                if sen[i+1] == cur:\n",
    "                    target += 1\n",
    "    return (target+1)/(total+V)\n",
    "    \n",
    "print(add1smooth(sen_wds, 'am', 'Sam'))"
   ]
  },
  {
   "cell_type": "markdown",
   "execution_count": null,
   "metadata": {},
   "outputs": [],
   "source": [
    "## 3.5"
   ]
  },
  {
   "cell_type": "code",
   "execution_count": 35,
   "metadata": {},
   "outputs": [
    {
     "name": "stdout",
     "output_type": "stream",
     "text": "0.8333333333333333\n"
    }
   ],
   "source": [
    "def sumadd1smmoth(sens, pres, curs):\n",
    "    total = 0.0\n",
    "    for i in range(len(pres)):\n",
    "        total += add1smooth(sens, pres[i], curs[i])\n",
    "    return total\n",
    "\n",
    "sens = ['<s> a b','<s> b b','<s> b a','<s> a a']\n",
    "print(sumadd1smmoth(sens, ['<s>','<s>','a','b','a','b'],['a','b','a','b','b','a']))"
   ]
  },
  {
   "cell_type": "markdown",
   "execution_count": null,
   "metadata": {},
   "outputs": [],
   "source": [
    "## 3.6\n",
    "\n",
    "$$P(w_3|w_1,w_2)=\\frac{c(w_1,w_2,w_3)}{c(w_1,w_2)}$$\n",
    "$$P^{*}(w_3|w_1,w_2)=\\frac{c(w_1,w_2,w_3)+1}{c(w_1,w_2)+V}$$"
   ]
  },
  {
   "cell_type": "markdown",
   "execution_count": null,
   "metadata": {},
   "outputs": [],
   "source": [
    "## 3.7\n",
    "$$P\\hat(Sam|am)=\\lambda_1P(Sam|am)+\\lambda_2P(Sam)=0.5\\times\\frac{2}{3}+0.5\\times\\frac{4}{25}=0.08+0.33=0.41$$"
   ]
  },
  {
   "cell_type": "markdown",
   "execution_count": null,
   "metadata": {},
   "outputs": [],
   "source": [
    "## 3.8"
   ]
  },
  {
   "cell_type": "code",
   "execution_count": 36,
   "metadata": {},
   "outputs": [
    {
     "name": "stdout",
     "output_type": "stream",
     "text": "[['<s>', 'dear', 'members', 'of', 'hkust', '<\\\\s>'], ['<s>', 'in', 'view', 'of', 'the', 'latest', 'development', 'of', 'the', 'novel', 'coronavirus', 'outbreak', 'in', 'hong', 'kong', '<\\\\s>'], ['<s>', 'the', \"university's\", 'management', 'has', 'decided', 'to', 'implement', 'procedures', 'to', 'provide', 'disposable', 'face', 'mask', 'to', 'students', 'and', 'staff', 'who', 'need', 'to', 'be', 'on', 'campus', 'starting', 'from', 'the', 'week', 'of', '10', 'feb', '2020', '<\\\\s>'], ['<s>', 'campus', 'mask', 'supply', 'scheme', '<\\\\s>'], ['<s>', '1', 'staff', 'members', 'who', 'have', 'to', 'provide', 'essential', 'services', 'on', 'campus', 'during', 'the', '\"work', 'at', 'home', 'period\"', 'will', 'be', 'issued', 'a', 'mask', 'on', 'a', 'daily', 'basis', 'departments', 'units', 'are', 'requested', 'to', 'assess', 'the', 'quantities', 'of', 'masks', 'needed', 'and', 'submit', 'requests', 'to', 'respective', \"dean's\", 'office', '<\\\\s>'], ['<s>', 'while', 'non-academic', 'offices', 'should', 'submit', 'the', 'requests', 'to', 'respective', 'p/vp', 'office', 'on', 'or', 'before', 'feb', '12', '<\\\\s>'], ['<s>', '2020', '(wed)', 'cls', 'will', 'coordinate', 'the', 'supply', 'of', 'masks', 'and', 'work', 'with', 'the', \"dean's\", 'offices', 'and', 'p/vp', 'offices', 'for', 'mask', 'dissemination', '<\\\\s>'], ['<s>', '2', 'students', 'are', 'requested', 'to', 'stay', 'away', 'from', 'campus', 'if', 'at', 'all', 'possible', 'those', 'who', 'must', 'be', 'on', 'campus', 'will', 'be', 'issued', 'a', 'mask', 'on', 'a', 'daily', 'basis', 'students', 'must', 'collect', 'their', 'mask', 'in-person', 'and', 'present', 'their', 'student', 'id', 'which', 'is', 'for', 'validation', 'only', 'and', 'no', 'personal', 'data', 'will', 'be', 'captured', 'hall', 'residents', 'can', 'collect', 'their', 'masks', 'at', 'the', 'student', 'hall', 'counter', '<\\\\s>'], ['<s>', 'while', 'other', 'students', 'can', 'collect', 'outside', 'the', 'security', 'office', 'at', 'the', 'atrium', 'and', 'lskbb', '<\\\\s>'], ['<s>', '3', 'considering', 'the', 'scarce', 'supply', 'of', 'disposable', 'mask', 'in', 'the', 'community', '<\\\\s>'], ['<s>', 'a', 'limited', 'quantity', 'of', 'masks', 'will', 'be', 'made', 'available', 'for', 'purchase', 'by', 'staff', 'for', 'personal', 'use', 'on', 'a', 'one-off', '<\\\\s>'], ['<s>', 'cost', 'recovery', 'basis', 'staff', 'association', 'has', 'agreed', 'to', 'help', 'with', 'the', 'distribution', '<\\\\s>'], ['<s>', 'please', 'visit', 'http://staff.ust.hk/sa-maskorder.pdf', 'for', 'details', 'and', 'registration', 'on', 'or', 'before', 'feb', '12', '<\\\\s>'], ['<s>', '2020', '(wed)', 'while', 'the', 'mask', 'supply', 'is', 'limited', 'and', 'may', 'not', 'be', 'sufficient', 'to', 'satisfy', 'all', 'requests', '<\\\\s>'], ['<s>', 'it', 'is', 'the', \"university's\", 'desire', 'to', 'help', 'alleviate', 'the', 'impact', 'of', 'the', 'virus', 'outbreak', 'in', 'our', 'campus', 'community', 'by', 'this', 'special', 'arrangement', '<\\\\s>'], ['<s>', 'important', 'reminder', 'about', 'personal', 'hygiene', '<\\\\s>'], ['<s>', 'please', 'be', 'reminded', 'that', 'wearing', 'mask', 'is', 'only', 'a', 'small', 'part', 'of', 'a', 'holistic', 'approach', 'to', 'combat', 'spreading', 'of', 'the', 'coronavirus', 'keeping', 'up', 'other', 'good', 'personal', 'hygiene', 'practices', '<\\\\s>'], ['<s>', 'especially', 'hand', 'hygiene', '<\\\\s>'], ['<s>', 'is', 'crucial', 'for', 'information', 'on', 'hygiene', 'and', 'preventive', 'measures', '<\\\\s>'], ['<s>', 'please', 'visit', 'https://www.chp.gov.hk/en/features/102465.html', 'for', 'details', '<\\\\s>'], ['<s>', 'health', '<\\\\s>'], ['<s>', 'safety', 'and', 'environment', 'office', '<\\\\s>']]\n"
    }
   ],
   "source": [
    "import collections\n",
    "\n",
    "def preprocessing(filename):\n",
    "    f = open(filename,'r',encoding='gb18030', errors='ignore')\n",
    "    copora = [x.strip().strip(',') for x in f]\n",
    "    copora = list(filter(None,copora))\n",
    "    sents = []\n",
    "    for cop in copora:\n",
    "        cop = cop.lower().strip('.')\n",
    "        sent = cop.split(',')\n",
    "        for sen in sent:\n",
    "            new_sent = sen.split()\n",
    "            new_sent = ['<s>'] + new_sent + ['<\\s>']\n",
    "            new_sent = [word.strip('.') for word in new_sent]\n",
    "            sents.append(new_sent)\n",
    "    return sents\n",
    "\n",
    "def bigram(sents, ug_count_dic):\n",
    "    bg_dic = collections.defaultdict(float)\n",
    "    for sen in sents:\n",
    "        for i in range(len(sen)-1):\n",
    "            if (sen[i], sen[i+1]) not in bg_dic:\n",
    "                bg_dic[(sen[i],sen[i+1])] = 1\n",
    "            else:\n",
    "                bg_dic[(sen[i],sen[i+1])] += 1\n",
    "    for bi in bg_dic:\n",
    "        bg_dic[bi] = bg_dic[bi]/ug_count_dic[bi[0]]\n",
    "    return bg_dic\n",
    "\n",
    "def unigrams(sents):\n",
    "    \"\"\" \n",
    "    @param sents: a list of list of word, each list contain a sentences of a long text file\n",
    "    @returns (ug_count_dic, unigram_dic): a tuple of two dictionaries with each item as \"unigram:count\" and \"unigram:probability\" respectively\n",
    "    \"\"\"\n",
    "    ug_count_dic = collections.defaultdict(int)\n",
    "    ug_prob_dic = collections.defaultdict(float)\n",
    "    total = sum(len(sent) for sent in sents)\n",
    "    for sent in sents:\n",
    "        for word in sent:\n",
    "            if word not in ug_count_dic:\n",
    "                ug_count_dic[word] = 1\n",
    "            else:\n",
    "                ug_count_dic[word] += 1\n",
    "        for word in ug_count_dic:\n",
    "            ug_prob_dic[word] = ug_count_dic[word]/total\n",
    "    return ug_count_dic, ug_prob_dic\n",
    "\n",
    "print(preprocessing('email.txt'))"
   ]
  },
  {
   "cell_type": "markdown",
   "execution_count": null,
   "metadata": {},
   "outputs": [],
   "source": [
    "## 3.9"
   ]
  },
  {
   "cell_type": "code",
   "execution_count": 37,
   "metadata": {},
   "outputs": [
    {
     "name": "stdout",
     "output_type": "stream",
     "text": "{'<s>': 0.05472636815920398, '<\\\\s>': 0.05472636815920398, 'the': 0.04975124378109453, 'to': 0.03233830845771144, 'of': 0.02736318407960199, 'and': 0.02736318407960199, 'mask': 0.022388059701492536, 'on': 0.022388059701492536, 'be': 0.01990049751243781, 'a': 0.01990049751243781, 'for': 0.017412935323383085, 'campus': 0.014925373134328358, 'will': 0.012437810945273632, 'is': 0.012437810945273632, 'in': 0.009950248756218905, 'students': 0.009950248756218905, 'staff': 0.009950248756218905, 'supply': 0.009950248756218905, 'at': 0.009950248756218905, 'masks': 0.009950248756218905, 'office': 0.009950248756218905, 'personal': 0.009950248756218905, 'hygiene': 0.009950248756218905, 'who': 0.007462686567164179, 'feb': 0.007462686567164179, '2020': 0.007462686567164179, 'basis': 0.007462686567164179, 'requests': 0.007462686567164179, 'while': 0.007462686567164179, 'offices': 0.007462686567164179, 'collect': 0.007462686567164179, 'their': 0.007462686567164179, 'please': 0.007462686567164179, 'members': 0.004975124378109453, 'coronavirus': 0.004975124378109453, 'outbreak': 0.004975124378109453, \"university's\": 0.004975124378109453, 'has': 0.004975124378109453, 'provide': 0.004975124378109453, 'disposable': 0.004975124378109453, 'from': 0.004975124378109453, 'issued': 0.004975124378109453, 'daily': 0.004975124378109453, 'are': 0.004975124378109453, 'requested': 0.004975124378109453, 'submit': 0.004975124378109453, 'respective': 0.004975124378109453, \"dean's\": 0.004975124378109453, 'p/vp': 0.004975124378109453, 'or': 0.004975124378109453, 'before': 0.004975124378109453, '12': 0.004975124378109453, '(wed)': 0.004975124378109453, 'with': 0.004975124378109453, 'all': 0.004975124378109453, 'must': 0.004975124378109453, 'student': 0.004975124378109453, 'only': 0.004975124378109453, 'hall': 0.004975124378109453, 'can': 0.004975124378109453, 'other': 0.004975124378109453, 'community': 0.004975124378109453, 'limited': 0.004975124378109453, 'by': 0.004975124378109453, 'help': 0.004975124378109453, 'visit': 0.004975124378109453, 'details': 0.004975124378109453, 'dear': 0.0024875621890547263, 'hkust': 0.0024875621890547263, 'view': 0.0024875621890547263, 'latest': 0.0024875621890547263, 'development': 0.0024875621890547263, 'novel': 0.0024875621890547263, 'hong': 0.0024875621890547263, 'kong': 0.0024875621890547263, 'management': 0.0024875621890547263, 'decided': 0.0024875621890547263, 'implement': 0.0024875621890547263, 'procedures': 0.0024875621890547263, 'face': 0.0024875621890547263, 'need': 0.0024875621890547263, 'starting': 0.0024875621890547263, 'week': 0.0024875621890547263, '10': 0.0024875621890547263, 'scheme': 0.0024875621890547263, '1': 0.0024875621890547263, 'have': 0.0024875621890547263, 'essential': 0.0024875621890547263, 'services': 0.0024875621890547263, 'during': 0.0024875621890547263, '\"work': 0.0024875621890547263, 'home': 0.0024875621890547263, 'period\"': 0.0024875621890547263, 'departments': 0.0024875621890547263, 'units': 0.0024875621890547263, 'assess': 0.0024875621890547263, 'quantities': 0.0024875621890547263, 'needed': 0.0024875621890547263, 'non-academic': 0.0024875621890547263, 'should': 0.0024875621890547263, 'cls': 0.0024875621890547263, 'coordinate': 0.0024875621890547263, 'work': 0.0024875621890547263, 'dissemination': 0.0024875621890547263, '2': 0.0024875621890547263, 'stay': 0.0024875621890547263, 'away': 0.0024875621890547263, 'if': 0.0024875621890547263, 'possible': 0.0024875621890547263, 'those': 0.0024875621890547263, 'in-person': 0.0024875621890547263, 'present': 0.0024875621890547263, 'id': 0.0024875621890547263, 'which': 0.0024875621890547263, 'validation': 0.0024875621890547263, 'no': 0.0024875621890547263, 'data': 0.0024875621890547263, 'captured': 0.0024875621890547263, 'residents': 0.0024875621890547263, 'counter': 0.0024875621890547263, 'outside': 0.0024875621890547263, 'security': 0.0024875621890547263, 'atrium': 0.0024875621890547263, 'lskbb': 0.0024875621890547263, '3': 0.0024875621890547263, 'considering': 0.0024875621890547263, 'scarce': 0.0024875621890547263, 'quantity': 0.0024875621890547263, 'made': 0.0024875621890547263, 'available': 0.0024875621890547263, 'purchase': 0.0024875621890547263, 'use': 0.0024875621890547263, 'one-off': 0.0024875621890547263, 'cost': 0.0024875621890547263, 'recovery': 0.0024875621890547263, 'association': 0.0024875621890547263, 'agreed': 0.0024875621890547263, 'distribution': 0.0024875621890547263, 'http://staff.ust.hk/sa-maskorder.pdf': 0.0024875621890547263, 'registration': 0.0024875621890547263, 'may': 0.0024875621890547263, 'not': 0.0024875621890547263, 'sufficient': 0.0024875621890547263, 'satisfy': 0.0024875621890547263, 'it': 0.0024875621890547263, 'desire': 0.0024875621890547263, 'alleviate': 0.0024875621890547263, 'impact': 0.0024875621890547263, 'virus': 0.0024875621890547263, 'our': 0.0024875621890547263, 'this': 0.0024875621890547263, 'special': 0.0024875621890547263, 'arrangement': 0.0024875621890547263, 'important': 0.0024875621890547263, 'reminder': 0.0024875621890547263, 'about': 0.0024875621890547263, 'reminded': 0.0024875621890547263, 'that': 0.0024875621890547263, 'wearing': 0.0024875621890547263, 'small': 0.0024875621890547263, 'part': 0.0024875621890547263, 'holistic': 0.0024875621890547263, 'approach': 0.0024875621890547263, 'combat': 0.0024875621890547263, 'spreading': 0.0024875621890547263, 'keeping': 0.0024875621890547263, 'up': 0.0024875621890547263, 'good': 0.0024875621890547263, 'practices': 0.0024875621890547263, 'especially': 0.0024875621890547263, 'hand': 0.0024875621890547263, 'crucial': 0.0024875621890547263, 'information': 0.0024875621890547263, 'preventive': 0.0024875621890547263, 'measures': 0.0024875621890547263, 'https://www.chp.gov.hk/en/features/102465.html': 0.0024875621890547263, 'health': 0.0024875621890547263, 'safety': 0.0024875621890547263, 'environment': 0.0024875621890547263}\n{('dear', 'members'): 1.0, ('hkust', '<\\\\s>'): 1.0, ('view', 'of'): 1.0, ('latest', 'development'): 1.0, ('development', 'of'): 1.0, ('novel', 'coronavirus'): 1.0, ('outbreak', 'in'): 1.0, ('hong', 'kong'): 1.0, ('kong', '<\\\\s>'): 1.0, ('management', 'has'): 1.0, ('decided', 'to'): 1.0, ('implement', 'procedures'): 1.0, ('procedures', 'to'): 1.0, ('face', 'mask'): 1.0, ('need', 'to'): 1.0, ('starting', 'from'): 1.0, ('week', 'of'): 1.0, ('10', 'feb'): 1.0, ('scheme', '<\\\\s>'): 1.0, ('1', 'staff'): 1.0, ('have', 'to'): 1.0, ('essential', 'services'): 1.0, ('services', 'on'): 1.0, ('during', 'the'): 1.0, ('\"work', 'at'): 1.0, ('home', 'period\"'): 1.0, ('period\"', 'will'): 1.0, ('issued', 'a'): 1.0, ('daily', 'basis'): 1.0, ('departments', 'units'): 1.0, ('units', 'are'): 1.0, ('are', 'requested'): 1.0, ('requested', 'to'): 1.0, ('assess', 'the'): 1.0, ('quantities', 'of'): 1.0, ('needed', 'and'): 1.0, ('non-academic', 'offices'): 1.0, ('should', 'submit'): 1.0, ('or', 'before'): 1.0, ('before', 'feb'): 1.0, ('12', '<\\\\s>'): 1.0, ('cls', 'will'): 1.0, ('coordinate', 'the'): 1.0, ('work', 'with'): 1.0, ('with', 'the'): 1.0, ('dissemination', '<\\\\s>'): 1.0, ('2', 'students'): 1.0, ('stay', 'away'): 1.0, ('away', 'from'): 1.0, ('if', 'at'): 1.0, ('possible', 'those'): 1.0, ('those', 'who'): 1.0, ('in-person', 'and'): 1.0, ('present', 'their'): 1.0, ('id', 'which'): 1.0, ('which', 'is'): 1.0, ('validation', 'only'): 1.0, ('no', 'personal'): 1.0, ('data', 'will'): 1.0, ('captured', 'hall'): 1.0, ('residents', 'can'): 1.0, ('can', 'collect'): 1.0, ('counter', '<\\\\s>'): 1.0, ('outside', 'the'): 1.0, ('security', 'office'): 1.0, ('atrium', 'and'): 1.0, ('lskbb', '<\\\\s>'): 1.0, ('3', 'considering'): 1.0, ('considering', 'the'): 1.0, ('scarce', 'supply'): 1.0, ('quantity', 'of'): 1.0, ('made', 'available'): 1.0, ('available', 'for'): 1.0, ('purchase', 'by'): 1.0, ('use', 'on'): 1.0, ('one-off', '<\\\\s>'): 1.0, ('cost', 'recovery'): 1.0, ('recovery', 'basis'): 1.0, ('association', 'has'): 1.0, ('agreed', 'to'): 1.0, ('distribution', '<\\\\s>'): 1.0, ('http://staff.ust.hk/sa-maskorder.pdf', 'for'): 1.0, ('registration', 'on'): 1.0, ('may', 'not'): 1.0, ('not', 'be'): 1.0, ('sufficient', 'to'): 1.0, ('satisfy', 'all'): 1.0, ('it', 'is'): 1.0, ('desire', 'to'): 1.0, ('alleviate', 'the'): 1.0, ('impact', 'of'): 1.0, ('virus', 'outbreak'): 1.0, ('our', 'campus'): 1.0, ('this', 'special'): 1.0, ('special', 'arrangement'): 1.0, ('arrangement', '<\\\\s>'): 1.0, ('important', 'reminder'): 1.0, ('reminder', 'about'): 1.0, ('about', 'personal'): 1.0, ('reminded', 'that'): 1.0, ('that', 'wearing'): 1.0, ('wearing', 'mask'): 1.0, ('small', 'part'): 1.0, ('part', 'of'): 1.0, ('holistic', 'approach'): 1.0, ('approach', 'to'): 1.0, ('combat', 'spreading'): 1.0, ('spreading', 'of'): 1.0, ('keeping', 'up'): 1.0, ('up', 'other'): 1.0, ('good', 'personal'): 1.0, ('practices', '<\\\\s>'): 1.0, ('especially', 'hand'): 1.0, ('hand', 'hygiene'): 1.0, ('crucial', 'for'): 1.0, ('information', 'on'): 1.0, ('preventive', 'measures'): 1.0, ('measures', '<\\\\s>'): 1.0, ('https://www.chp.gov.hk/en/features/102465.html', 'for'): 1.0, ('health', '<\\\\s>'): 1.0, ('safety', 'and'): 1.0, ('environment', 'office'): 1.0, ('will', 'be'): 0.8, ('requests', 'to'): 0.6666666666666666, ('feb', '12'): 0.6666666666666666, ('2020', '(wed)'): 0.6666666666666666, ('collect', 'their'): 0.6666666666666666, ('please', 'visit'): 0.6666666666666666, ('members', 'of'): 0.5, ('coronavirus', 'outbreak'): 0.5, (\"university's\", 'management'): 0.5, ('has', 'decided'): 0.5, ('provide', 'disposable'): 0.5, ('disposable', 'face'): 0.5, ('from', 'the'): 0.5, ('members', 'who'): 0.5, ('provide', 'essential'): 0.5, ('submit', 'requests'): 0.5, ('respective', \"dean's\"): 0.5, (\"dean's\", 'office'): 0.5, ('office', '<\\\\s>'): 0.5, ('submit', 'the'): 0.5, ('respective', 'p/vp'): 0.5, ('p/vp', 'office'): 0.5, ('(wed)', 'cls'): 0.5, ('supply', 'of'): 0.5, (\"dean's\", 'offices'): 0.5, ('p/vp', 'offices'): 0.5, ('from', 'campus'): 0.5, ('all', 'possible'): 0.5, ('must', 'be'): 0.5, ('must', 'collect'): 0.5, ('student', 'id'): 0.5, ('only', 'and'): 0.5, ('hall', 'residents'): 0.5, ('at', 'the'): 0.5, ('student', 'hall'): 0.5, ('hall', 'counter'): 0.5, ('other', 'students'): 0.5, ('disposable', 'mask'): 0.5, ('community', '<\\\\s>'): 0.5, ('limited', 'quantity'): 0.5, ('by', 'staff'): 0.5, ('has', 'agreed'): 0.5, ('help', 'with'): 0.5, ('visit', 'http://staff.ust.hk/sa-maskorder.pdf'): 0.5, ('details', 'and'): 0.5, ('(wed)', 'while'): 0.5, ('limited', 'and'): 0.5, ('all', 'requests'): 0.5, (\"university's\", 'desire'): 0.5, ('help', 'alleviate'): 0.5, ('community', 'by'): 0.5, ('by', 'this'): 0.5, ('personal', 'hygiene'): 0.5, ('hygiene', '<\\\\s>'): 0.5, ('only', 'a'): 0.5, ('coronavirus', 'keeping'): 0.5, ('other', 'good'): 0.5, ('visit', 'https://www.chp.gov.hk/en/features/102465.html'): 0.5, ('details', '<\\\\s>'): 0.5, ('of', 'the'): 0.36363636363636365, ('who', 'need'): 0.3333333333333333, ('on', 'campus'): 0.3333333333333333, ('feb', '2020'): 0.3333333333333333, ('2020', '<\\\\s>'): 0.3333333333333333, ('who', 'have'): 0.3333333333333333, ('on', 'a'): 0.3333333333333333, ('basis', 'departments'): 0.3333333333333333, ('while', 'non-academic'): 0.3333333333333333, ('offices', 'should'): 0.3333333333333333, ('offices', 'and'): 0.3333333333333333, ('offices', 'for'): 0.3333333333333333, ('who', 'must'): 0.3333333333333333, ('basis', 'students'): 0.3333333333333333, ('their', 'mask'): 0.3333333333333333, ('their', 'student'): 0.3333333333333333, ('their', 'masks'): 0.3333333333333333, ('while', 'other'): 0.3333333333333333, ('collect', 'outside'): 0.3333333333333333, ('basis', 'staff'): 0.3333333333333333, ('while', 'the'): 0.3333333333333333, ('requests', '<\\\\s>'): 0.3333333333333333, ('please', 'be'): 0.3333333333333333, ('for', 'details'): 0.2857142857142857, ('of', 'masks'): 0.2727272727272727, ('in', 'view'): 0.25, ('in', 'hong'): 0.25, ('students', 'and'): 0.25, ('staff', 'who'): 0.25, ('be', 'on'): 0.25, ('supply', 'scheme'): 0.25, ('staff', 'members'): 0.25, ('at', 'home'): 0.25, ('be', 'issued'): 0.25, ('a', 'mask'): 0.25, ('a', 'daily'): 0.25, ('masks', 'needed'): 0.25, ('office', 'on'): 0.25, ('masks', 'and'): 0.25, ('students', 'are'): 0.25, ('at', 'all'): 0.25, ('students', 'must'): 0.25, ('personal', 'data'): 0.25, ('masks', 'at'): 0.25, ('students', 'can'): 0.25, ('office', 'at'): 0.25, ('in', 'the'): 0.25, ('masks', 'will'): 0.25, ('staff', 'for'): 0.25, ('personal', 'use'): 0.25, ('staff', 'association'): 0.25, ('supply', 'is'): 0.25, ('in', 'our'): 0.25, ('hygiene', 'practices'): 0.25, ('hygiene', 'and'): 0.25, ('mask', 'supply'): 0.2222222222222222, ('mask', 'on'): 0.2222222222222222, ('on', 'or'): 0.2222222222222222, ('will', 'coordinate'): 0.2, ('is', 'for'): 0.2, ('is', 'limited'): 0.2, ('is', 'the'): 0.2, ('is', 'only'): 0.2, ('is', 'crucial'): 0.2, ('campus', 'starting'): 0.16666666666666666, ('campus', 'mask'): 0.16666666666666666, ('campus', 'during'): 0.16666666666666666, ('campus', 'if'): 0.16666666666666666, ('campus', 'will'): 0.16666666666666666, ('campus', 'community'): 0.16666666666666666, ('to', 'provide'): 0.15384615384615385, ('to', 'respective'): 0.15384615384615385, ('to', 'help'): 0.15384615384615385, ('for', 'mask'): 0.14285714285714285, ('for', 'validation'): 0.14285714285714285, ('for', 'purchase'): 0.14285714285714285, ('for', 'personal'): 0.14285714285714285, ('for', 'information'): 0.14285714285714285, ('<s>', 'please'): 0.13636363636363635, ('be', 'captured'): 0.125, ('a', 'limited'): 0.125, ('be', 'made'): 0.125, ('a', 'one-off'): 0.125, ('be', 'sufficient'): 0.125, ('be', 'reminded'): 0.125, ('a', 'small'): 0.125, ('a', 'holistic'): 0.125, ('mask', 'to'): 0.1111111111111111, ('mask', 'dissemination'): 0.1111111111111111, ('mask', 'in-person'): 0.1111111111111111, ('mask', 'in'): 0.1111111111111111, ('mask', 'is'): 0.1111111111111111, ('on', 'hygiene'): 0.1111111111111111, ('the', \"university's\"): 0.1, ('of', 'hkust'): 0.09090909090909091, ('and', 'staff'): 0.09090909090909091, ('of', '10'): 0.09090909090909091, ('and', 'submit'): 0.09090909090909091, ('<s>', 'while'): 0.09090909090909091, ('<s>', '2020'): 0.09090909090909091, ('and', 'work'): 0.09090909090909091, ('and', 'p/vp'): 0.09090909090909091, ('and', 'present'): 0.09090909090909091, ('and', 'no'): 0.09090909090909091, ('and', 'lskbb'): 0.09090909090909091, ('of', 'disposable'): 0.09090909090909091, ('and', 'registration'): 0.09090909090909091, ('and', 'may'): 0.09090909090909091, ('of', 'a'): 0.09090909090909091, ('and', 'preventive'): 0.09090909090909091, ('and', 'environment'): 0.09090909090909091, ('to', 'implement'): 0.07692307692307693, ('to', 'students'): 0.07692307692307693, ('to', 'be'): 0.07692307692307693, ('to', 'assess'): 0.07692307692307693, ('to', 'stay'): 0.07692307692307693, ('to', 'satisfy'): 0.07692307692307693, ('to', 'combat'): 0.07692307692307693, ('the', 'latest'): 0.05, ('the', 'novel'): 0.05, ('the', 'week'): 0.05, ('the', '\"work'): 0.05, ('the', 'quantities'): 0.05, ('the', 'requests'): 0.05, ('the', 'supply'): 0.05, ('the', \"dean's\"): 0.05, ('the', 'student'): 0.05, ('the', 'security'): 0.05, ('the', 'atrium'): 0.05, ('the', 'scarce'): 0.05, ('the', 'community'): 0.05, ('the', 'distribution'): 0.05, ('the', 'mask'): 0.05, ('the', 'impact'): 0.05, ('the', 'virus'): 0.05, ('the', 'coronavirus'): 0.05, ('<s>', 'dear'): 0.045454545454545456, ('<s>', 'in'): 0.045454545454545456, ('<s>', 'the'): 0.045454545454545456, ('<s>', 'campus'): 0.045454545454545456, ('<s>', '1'): 0.045454545454545456, ('<s>', '2'): 0.045454545454545456, ('<s>', '3'): 0.045454545454545456, ('<s>', 'a'): 0.045454545454545456, ('<s>', 'cost'): 0.045454545454545456, ('<s>', 'it'): 0.045454545454545456, ('<s>', 'important'): 0.045454545454545456, ('<s>', 'especially'): 0.045454545454545456, ('<s>', 'is'): 0.045454545454545456, ('<s>', 'health'): 0.045454545454545456, ('<s>', 'safety'): 0.045454545454545456}\n"
    }
   ],
   "source": [
    "sents = preprocessing('email.txt')\n",
    "ug_count_dic, ug_prob_dic = unigrams(sents)\n",
    "bi_dic = bigram(sents, ug_count_dic)\n",
    "# print(ug_prob_dic)\n",
    "# print(bi_dic)\n",
    "\n",
    "ug_sorted_dic = {x:v for x,v in sorted(ug_prob_dic.items(), key=lambda item:item[1], reverse=True)}\n",
    "print(ug_sorted_dic)\n",
    "bi_sorted_dic = {x:v for x,v in sorted(bi_dic.items(), key=lambda item:item[1], reverse=True)}\n",
    "print(bi_sorted_dic)"
   ]
  },
  {
   "cell_type": "markdown",
   "execution_count": null,
   "metadata": {},
   "outputs": [],
   "source": [
    "## 3.10 & 3.11"
   ]
  },
  {
   "cell_type": "code",
   "execution_count": 38,
   "metadata": {},
   "outputs": [
    {
     "name": "stdout",
     "output_type": "stream",
     "text": "sentence 1: ppl = 2.15\nsafety and may not be on a daily basis departments units are requested to help alleviate the supply of the university's desire to\nsentence 2: ppl = 2.34\n2020 (wed) while non-academic offices for details and may not be reminded that wearing mask in-person and p/vp offices and present their masks\nsentence 3: ppl = 2.61\nsafety and registration on campus starting from campus during the latest development of the university's desire to stay away from campus mask dissemination\nsentence 4: ppl = 2.70\nis for information on campus starting from campus community\nsentence 5: ppl = 1.92\n2020 (wed) while other students can collect their student hall counter\nsentence 6: ppl = 2.93\nplease be sufficient to implement procedures to respective p/vp offices for information on campus starting from the security office on a mask to\nsentence 7: ppl = 1.00\nhealth\nsentence 8: ppl = 2.24\nwhile the university's management has agreed to respective dean's office\nsentence 9: ppl = 2.35\ndear members of masks at home period\" will be on a limited quantity of masks needed and no personal use on campus mask\nsentence 10: ppl = 1.00\nhealth\nsentence 11: ppl = 1.78\nplease visit https://www.chp.gov.hk/en/features/102465.html for personal use on or before feb 12\nsentence 12: ppl = 1.41\nespecially hand hygiene practices\nsentence 13: ppl = 2.59\nin our campus during the atrium and preventive measures\nsentence 14: ppl = 2.52\nwhile other good personal hygiene and p/vp offices should submit requests to combat spreading of the community\nsentence 15: ppl = 5.65\nthe mask dissemination\nsentence 16: ppl = 2.44\n2 students must collect their student id which is the atrium and work with the distribution\nsentence 17: ppl = 2.94\nthe supply is the \"work at all possible those who have to provide disposable mask supply scheme\nsentence 18: ppl = 2.16\nis only a small part of the virus outbreak in the novel coronavirus keeping up other students can collect their student id which\nsentence 19: ppl = 2.15\ncost recovery basis departments units are requested to combat spreading of the latest development of masks needed and staff for information on or\nsentence 20: ppl = 1.98\n1 staff association has decided to provide disposable face mask dissemination\nAverage ppl: 2.34\n"
    }
   ],
   "source": [
    "import random\n",
    "\n",
    "def rand_sent(bi_dic, max_len):\n",
    "    sent = ['<s>']\n",
    "    while sent[-1]!='<\\s>' and len(sent)+1<max_len:\n",
    "        pre = sent[-1]\n",
    "        choices = {bi[1]:prob for bi,prob in bi_dic.items() if bi[0]==pre}\n",
    "        ran = random.random()\n",
    "        for item in choices.items():\n",
    "            ran = ran - item[1]\n",
    "            if ran < 0:\n",
    "                sent.append(item[0])\n",
    "                break\n",
    "    return sent if sent[-1]=='<\\s>' else sent+['<\\s>']\n",
    "\n",
    "def cal_ppl(sent, bi_dic):\n",
    "    ppl = 1\n",
    "    for i in range(1,len(sent)-2):\n",
    "        w1, w2 = sent[i], sent[i+1]\n",
    "        ppl *= bi_dic[(w1,w2)]\n",
    "    return pow(ppl, -1/(len(sent)-2))\n",
    "\n",
    "test_times = 20\n",
    "\n",
    "total = 0\n",
    "for i in range(test_times):\n",
    "    sent = rand_sent(bi_dic, 25)\n",
    "    ppl = cal_ppl(sent, bi_dic)\n",
    "    print(\"sentence %d: ppl = %.2f\"%(i+1,ppl))\n",
    "    print(' '.join([word for word in sent[1:-1]]))\n",
    "    total += ppl\n",
    "print(\"Average ppl: %.2f\"%(total/test_times))"
   ]
  }
 ]
}