{
 "nbformat": 4,
 "nbformat_minor": 2,
 "metadata": {
  "language_info": {
   "name": "python",
   "codemirror_mode": {
    "name": "ipython",
    "version": 3
   },
   "version": "3.6.5-final"
  },
  "orig_nbformat": 2,
  "file_extension": ".py",
  "mimetype": "text/x-python",
  "name": "python",
  "npconvert_exporter": "python",
  "pygments_lexer": "ipython3",
  "version": 3,
  "kernelspec": {
   "name": "python36564bitanaconda3conda4d2a131d00244148923b6e8eafe61e3b",
   "display_name": "Python 3.6.5 64-bit ('Anaconda3': conda)"
  }
 },
 "cells": [
  {
   "cell_type": "markdown",
   "metadata": {},
   "source": [
    "## 12.1"
   ]
  },
  {
   "cell_type": "code",
   "execution_count": 49,
   "metadata": {},
   "outputs": [
    {
     "name": "stdout",
     "output_type": "stream",
     "text": "['after', 'five', 'p.m.']\n"
    }
   ],
   "source": [
    "import nltk\n",
    "grammar = nltk.CFG.fromstring(\"\"\"\n",
    "    S -> NP | PP | VP | NP PP\n",
    "    NP -> Pronoun | Proper-Noun | Det Nominal | Nominal | Adj \n",
    "    Nominal -> Nominal N | Adj N | N \n",
    "    VP -> V | V NP | V NP PP | V PP\n",
    "    PP -> Preposition NP\n",
    "    Adj -> 'early'  | 'all' | 'one-way' | 'any'\n",
    "    N -> 'p.m.' | 'flights' | 'redeye' | 'fare' | 'delays' | 'five'\n",
    "    Det -> 'a'\n",
    "    V -> 'arriving'\n",
    "    Preposition -> 'from' | 'in' | 'after' | 'on'\n",
    "    Proper-Noun -> 'Denver' | 'Dallas' | 'Washington' | 'Thursday'\n",
    "    \"\"\")\n",
    "# NPChunker = nltk.ChartParser(pattern)\n",
    "\n",
    "parser = nltk.ChartParser(grammar)\n",
    "\n",
    "def parse(sent):\n",
    "    #Returns nltk.Tree.Tree format output\n",
    "    a = []  \n",
    "    for tree in parser.parse(sent):\n",
    "        a.append(tree)\n",
    "    return a[0]\n",
    "\n",
    "# 1. Dallas\n",
    "sentence = ['Dallas']\n",
    "result = parse(sentence)\n",
    "result.draw()\n",
    "\n",
    "# 2. from Denver\n",
    "sentence = 'from Denver'.split()\n",
    "result = parse(sentence)\n",
    "result.draw()\n",
    "\n",
    "# 3. after five p.m.\n",
    "sentence = 'after five p.m.'.split()\n",
    "result = parse(sentence)\n",
    "result.draw()\n",
    "\n",
    "# 4. arriving in Washington\n",
    "sentence = 'arriving in Washington'.split()\n",
    "result = parse(sentence)\n",
    "result.draw()\n",
    "\n",
    "# 5. early flights\n",
    "sentence = 'early flights'.split()\n",
    "result = parse(sentence)\n",
    "result.draw()\n",
    "\n",
    "# 6. all redeye flights\n",
    "sentence = 'all redeye flights'.split()\n",
    "result = parse(sentence)\n",
    "result.draw()\n",
    "\n",
    "# 7. on Tursday\n",
    "sentence = 'on Thursday'.split()\n",
    "result = parse(sentence)\n",
    "result.draw()\n",
    "\n",
    "# 8. a one-way fare\n",
    "sentence = 'a one-way fare'.split()\n",
    "result = parse(sentence)\n",
    "result.draw()\n",
    "\n",
    "# 9. any delays in Denver\n",
    "sentence = 'any delays in Denver'.split()\n",
    "result = parse(sentence)\n",
    "result.draw()"
   ]
  },
  {
   "cell_type": "markdown",
   "metadata": {},
   "source": [
    "## 12.2"
   ]
  },
  {
   "cell_type": "code",
   "execution_count": 68,
   "metadata": {},
   "outputs": [],
   "source": [
    "\n",
    "# NPChunker = nltk.ChartParser(pattern)\n",
    "def parse(sent, grammar):\n",
    "    #Returns nltk.Tree.Tree format output\n",
    "    a = []\n",
    "    parser = nltk.ChartParser(grammar)\n",
    "    for tree in parser.parse(sent):\n",
    "        a.append(tree)\n",
    "    return a[0]\n",
    "\n",
    "sentence = 'Does AmericanAirlines have a flight between five a.m. and six a.m.'.split()\n",
    "grammar = nltk.CFG.fromstring(\"\"\"\n",
    "    S -> Aux NP VP\n",
    "    VP -> V NP PP\n",
    "    NP -> Prop-Noun | Det Nominal | NP 'and' NP | Nominal\n",
    "    PP -> Prep NP\n",
    "    Nominal -> Nominal N | N\n",
    "    V -> 'have'\n",
    "    Det -> 'a'\n",
    "    N -> 'five' | 'six' | 'a.m.' | 'flight'\n",
    "    Prep -> 'between'\n",
    "    Prop-Noun -> 'AmericanAirlines'\n",
    "    Aux -> 'Does'\n",
    "    \"\"\")\n",
    "result = parse(sentence, grammar)\n",
    "result.draw()\n",
    "\n",
    "sentence = 'I wouldlike tofly on AmericanAirlines'.split()\n",
    "grammar = nltk.CFG.fromstring(\"\"\"\n",
    "    S -> NP VP\n",
    "    VP ->  V VP | V PP\n",
    "    NP -> Prop-Noun | Pronoun\n",
    "    PP -> Prep NP\n",
    "    Pronoun -> 'I'\n",
    "    V -> 'wouldlike' | 'tofly'\n",
    "    Prep -> 'on'\n",
    "    Prop-Noun -> 'AmericanAirlines'\n",
    "    \"\"\")\n",
    "result = parse(sentence, grammar)\n",
    "result.draw()\n",
    "\n",
    "sentence = 'Please repeat that'.split()\n",
    "grammar = nltk.CFG.fromstring(\"\"\"\n",
    "    S -> VP\n",
    "    VP ->  V VP | V NP\n",
    "    NP -> Pronoun\n",
    "    Pronoun -> 'that'\n",
    "    V -> 'Please' | 'repeat'\n",
    "    \"\"\")\n",
    "result = parse(sentence, grammar)\n",
    "result.draw()\n",
    "\n",
    "sentence = 'Does American487 have a first-class section'.split()\n",
    "grammar = nltk.CFG.fromstring(\"\"\"\n",
    "    S -> Aux NP VP\n",
    "    VP -> V NP\n",
    "    NP -> Prop-Noun | Det Nominal\n",
    "    Nominal -> Nominal N | N\n",
    "    V -> 'have'\n",
    "    Det -> 'a'\n",
    "    N -> 'first-class' | 'section'\n",
    "    Prop-Noun -> 'American487'\n",
    "    Aux -> 'Does'\n",
    "    \"\"\")\n",
    "result = parse(sentence, grammar)\n",
    "result.draw()\n",
    "\n",
    "sentence = 'I need tofly between Philadelphia and Atlanta'.split()\n",
    "grammar = nltk.CFG.fromstring(\"\"\"\n",
    "    S -> NP VP\n",
    "    VP ->  V VP | V PP\n",
    "    NP -> NP 'and' NP | Prop-Noun | Pronoun\n",
    "    PP -> Prep NP\n",
    "    Pronoun -> 'I'\n",
    "    Prop-Noun -> 'Philadelphia' | 'Atlanta'\n",
    "    V -> 'need' | 'tofly'\n",
    "    Prep -> 'between'\n",
    "    \"\"\")\n",
    "result = parse(sentence, grammar)\n",
    "result.draw()\n",
    "\n",
    "sentence = 'What is the fare from Atlanta to Denver'.split()\n",
    "grammar = nltk.CFG.fromstring(\"\"\"\n",
    "    S -> Wh VP\n",
    "    VP ->  V NP\n",
    "    NP -> Det Nominal | Prop-Noun\n",
    "    PP -> Prep NP Prep NP\n",
    "    Nominal -> Nominal PP | N\n",
    "    N -> 'fare'\n",
    "    Det -> 'the'\n",
    "    Wh -> 'What'\n",
    "    Prep -> 'from' | 'to'\n",
    "    Prop-Noun -> 'Denver' | 'Atlanta'\n",
    "    V -> 'is'\n",
    "    Prep -> 'between'\n",
    "    \"\"\")\n",
    "result = parse(sentence, grammar)\n",
    "result.draw()\n",
    "\n",
    "sentence = 'Is there an AmericanAirlines flight from Philadelphia to Dallas'.split()\n",
    "grammar = nltk.CFG.fromstring(\"\"\"\n",
    "    S -> VP NP\n",
    "    VP -> V NP\n",
    "    NP -> Pronoun | Det Nominal | Prop-Noun\n",
    "    PP -> Prep NP Prep NP\n",
    "    Nominal -> Nominal PP | NP Nominal | N\n",
    "    Pronoun -> 'there'\n",
    "    V -> 'Is'\n",
    "    Prep -> 'from' | 'to'\n",
    "    Det -> 'an'\n",
    "    N -> 'flight'\n",
    "    Prop-Noun -> 'AmericanAirlines' | 'Philadelphia' | 'Dallas'\n",
    "    Aux -> 'Does'\n",
    "    \"\"\")\n",
    "result = parse(sentence, grammar)\n",
    "result.draw()"
   ]
  },
  {
   "cell_type": "markdown",
   "metadata": {},
   "source": [
    "## 12.3"
   ]
  },
  {
   "cell_type": "markdown",
   "metadata": {},
   "source": [
    "*RelClause $\\to$ (who|that) VP*\n",
    "\n",
    "*RelClause $\\to$ (who|that) NoObjS*\n",
    "\n",
    "*NoObjS $\\to$ NP NoObjVP*\n",
    "\n",
    "*NoObjVP $\\to$ (Aux) Verb-with-NP-Comp (PP)*\n",
    "\n",
    "*NoObjVP $\\to$ (Aux) Verb-with-S-Comp (NoObjS)*\n",
    "\n",
    "*NoObjVP $\\to$ (Aux) Verb-with-Inf-VP-Comp ((NP) to NoObjVP)*"
   ]
  },
  {
   "cell_type": "markdown",
   "metadata": {},
   "source": [
    "## 12.4"
   ]
  },
  {
   "cell_type": "markdown",
   "metadata": {},
   "source": [
    "Yes, the optional *Aux* elements allow for auxiliaries like *can*, and the recursive uses of NoObjS and NoObjVP in the last two rules allow for the long-distance dependencies."
   ]
  },
  {
   "cell_type": "markdown",
   "metadata": {},
   "source": [
    "## 12.5"
   ]
  },
  {
   "cell_type": "markdown",
   "metadata": {},
   "source": [
    "*verb-with-bare-stem-VP-complement$\\to$can*"
   ]
  },
  {
   "cell_type": "markdown",
   "metadata": {},
   "source": [
    "## 12.6"
   ]
  },
  {
   "cell_type": "markdown",
   "metadata": {},
   "source": [
    "*Det$\\to$NP'S*\n",
    "\n",
    "*NP$\\to$(Det)Nominal*"
   ]
  },
  {
   "cell_type": "markdown",
   "metadata": {},
   "source": [
    "## 12.7"
   ]
  },
  {
   "cell_type": "markdown",
   "metadata": {},
   "source": []
  }
 ]
}