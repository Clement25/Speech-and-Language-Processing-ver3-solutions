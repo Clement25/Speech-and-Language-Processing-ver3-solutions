{
 "nbformat": 4,
 "nbformat_minor": 2,
 "metadata": {
  "language_info": {
   "name": "python",
   "codemirror_mode": {
    "name": "ipython",
    "version": 3
   },
   "version": "3.6.5-final"
  },
  "orig_nbformat": 2,
  "file_extension": ".py",
  "mimetype": "text/x-python",
  "name": "python",
  "npconvert_exporter": "python",
  "pygments_lexer": "ipython3",
  "version": 3,
  "kernelspec": {
   "name": "python36564bitanaconda3conda4d2a131d00244148923b6e8eafe61e3b",
   "display_name": "Python 3.6.5 64-bit ('Anaconda3': conda)"
  }
 },
 "cells": [
  {
   "cell_type": "markdown",
   "execution_count": 1,
   "metadata": {},
   "outputs": [
    {
     "ename": "SyntaxError",
     "evalue": "unexpected character after line continuation character (<ipython-input-1-fa158ca52585>, line 1)",
     "output_type": "error",
     "traceback": [
      "\u001b[1;36m  File \u001b[1;32m\"<ipython-input-1-fa158ca52585>\"\u001b[1;36m, line \u001b[1;32m1\u001b[0m\n\u001b[1;33m    1. \\[A-Za-z\\]+\u001b[0m\n\u001b[1;37m                  ^\u001b[0m\n\u001b[1;31mSyntaxError\u001b[0m\u001b[1;31m:\u001b[0m unexpected character after line continuation character\n"
     ]
    }
   ],
   "source": [
    "2.1\n",
    "\n",
    "1. \\[A-Za-z\\]+\n",
    "2. \\[a-z]+b\b",
    "3. (b+(ab+)+)?"
   ]
  },
  {
   "cell_type": "markdown",
   "execution_count": null,
   "metadata": {},
   "outputs": [],
   "source": [
    "2.2\n",
    "\n",
    "1. (\\[A-Za-z\\]+)\\b+\\1\n",
    "2. ^\\d+\\b.*\\b\\[A-Za-z\\]+$\n",
    "3. \\bgrotto\\b.\\*\\braven\\b | \\braven\\b.*\\bgrotto\\b"
   ]
  },
  {
   "cell_type": "code",
   "execution_count": 1,
   "metadata": {},
   "outputs": [
    {
     "output_type": "stream",
     "name": "stdout",
     "text": "Delete r\nInsert r\nInsert s\n"
    }
   ],
   "source": [
    "# -*- coding: utf-8 -*-\n",
    "\n",
    "def compute_ed(word1, word2):\n",
    "    ed_table = [[0 for i in range(len(word2)+1)] for j in range(len(word1)+1)]\n",
    "    ed_table[0][0] = 0\n",
    "    trace_table = [[[] for i in range(len(word2)+1)] for j in range(len(word1)+1)]\n",
    "    for i in range(len(word1)+1):\n",
    "        for j in range(len(word2)+1):\n",
    "            if i == 0:\n",
    "                ed_table[0][j] = j\n",
    "                if j > 0:\n",
    "                    trace_table[0][j].append(\"Insert {}\".format(word2[j-1]))\n",
    "            elif j == 0:\n",
    "                ed_table[i][0] = i\n",
    "                if i > 0:\n",
    "                    trace_table[i][0].append(\"Detele {}\".format(word1[i-1]))\n",
    "            else:\n",
    "                ed_table[i][j] = min(ed_table[i-1][j]+1, ed_table[i][j-1]+1,  \\\n",
    "                                ed_table[i-1][j-1]+(word1[i-1]!=word2[j-1]))\n",
    "                if ed_table[i-1][j] + 1 == ed_table[i][j]:\n",
    "                    trace_table[i][j] = trace_table[i-1][j] + [\"Delete {}\".format(word1[i-1])]\n",
    "                elif ed_table[i][j-1] + 1 == ed_table[i][j]:\n",
    "                    trace_table[i][j] = trace_table[i][j-1] + [\"Insert {}\".format(word2[j-1])]\n",
    "                elif word1[i-1]!=word2[j-1]:\n",
    "                    trace_table[i][j] = trace_table[i-1][j-1] + [\"Substitute {0} with {1}\".format(word1[i-1],word2[j-1])]\n",
    "                else:\n",
    "                    trace_table[i][j] = trace_table[i-1][j-1]\n",
    "    \n",
    "    return ed_table[-1][-1] ,trace_table[-1][-1]\n",
    "\n",
    "word1 = \"drive\"\n",
    "word2 = \"divers\"\n",
    "ed, trace = compute_ed(word1,word2)\n",
    "for tr in trace:\n",
    "    print(tr)"
   ]
  }
 ]
}
