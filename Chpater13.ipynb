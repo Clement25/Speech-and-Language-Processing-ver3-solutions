{
 "nbformat": 4,
 "nbformat_minor": 2,
 "metadata": {
  "language_info": {
   "name": "python",
   "codemirror_mode": {
    "name": "ipython",
    "version": 3
   },
   "version": "3.6.5-final"
  },
  "orig_nbformat": 2,
  "file_extension": ".py",
  "mimetype": "text/x-python",
  "name": "python",
  "npconvert_exporter": "python",
  "pygments_lexer": "ipython3",
  "version": 3,
  "kernelspec": {
   "name": "python36564bitanaconda3conda4d2a131d00244148923b6e8eafe61e3b",
   "display_name": "Python 3.6.5 64-bit ('Anaconda3': conda)"
  }
 },
 "cells": [
  {
   "cell_type": "markdown",
   "metadata": {},
   "source": [
    "## 13.1\n",
    "Please see \"Chomsky.py\" under the folder \"Constituency Parsing\"."
   ]
  },
  {
   "cell_type": "markdown",
   "metadata": {},
   "source": [
    "## 13.2\n",
    "\n",
    "Please see \"CKY.py\" under the folder \"Constituency Parsing\".\n"
   ]
  },
  {
   "cell_type": "markdown",
   "metadata": {},
   "source": [
    "## 13.3\n",
    "\n",
    "For terminals we have\n",
    "$$\n",
    "for \\quad all {A|A\\rightarrow words[j]\\in grammar} \\\\\n",
    "    if\\quad\\exists B such that B \\rightarrow A in grammar   \\\\\n",
    "        table[j-1,j] \\leftarrow table[j-1,j]\\cup B \\quad\n",
    "    else\n",
    "        table[j-1,j] \\leftarrow table[j-1,j]\\cup A\n",
    "$$\n",
    "\n",
    "For combined process we have\n",
    "$$\n",
    "for all {A|A\\rightarrow BC \\in grammar and B \\in table[i,k] and C \\in table[k,j]} \\\\\n",
    "    if\\quad\\exists B such that B \\rightarrow A in grammar   \\\\\n",
    "        table[i,j] \\leftarrow table[i,j] \\cup B \\\\\n",
    "    else    \\\\\n",
    "table[i,j]\\leftarrow table[i,j]\\cup A   \\\\\n",
    "$$\n"
   ]
  },
  {
   "cell_type": "code",
   "execution_count": null,
   "metadata": {},
   "outputs": [],
   "source": []
  }
 ]
}