{
 "nbformat": 4,
 "nbformat_minor": 2,
 "metadata": {
  "language_info": {
   "name": "python",
   "codemirror_mode": {
    "name": "ipython",
    "version": 3
   },
   "version": "3.6.5-final"
  },
  "orig_nbformat": 2,
  "file_extension": ".py",
  "mimetype": "text/x-python",
  "name": "python",
  "npconvert_exporter": "python",
  "pygments_lexer": "ipython3",
  "version": 3,
  "kernelspec": {
   "name": "python36564bitanaconda3conda4d2a131d00244148923b6e8eafe61e3b",
   "display_name": "Python 3.6.5 64-bit ('Anaconda3': conda)"
  }
 },
 "cells": [
  {
   "cell_type": "markdown",
   "metadata": {},
   "source": [
    "## 14.1\n",
    "Please see the code in CKY.py"
   ]
  },
  {
   "cell_type": "markdown",
   "metadata": {},
   "source": [
    "## 14.2&14.3&14.4"
   ]
  },
  {
   "cell_type": "markdown",
   "metadata": {},
   "source": [
    "Please see the code under \"Statistical Constituency Parsing\" folder."
   ]
  },
  {
   "cell_type": "markdown",
   "metadata": {},
   "source": [
    "## 14.5\n",
    "\n",
    "Rule matching process in CKY doesn't only work on types, but also work on words.\n",
    "In other words, we need to expand the tags for matching, each with a label and word.\n",
    "\n",
    "In my implementation, these two are the same. Because we fixed the expression of lexicalized grammar as \"A->B1(word) B2(word)\". In previous CKY, we compare each target with these two labels on the right of the arrow. However in current CKY, "
   ]
  },
  {
   "cell_type": "markdown",
   "metadata": {},
   "source": [
    "## 14.6"
   ]
  },
  {
   "cell_type": "code",
   "execution_count": null,
   "metadata": {},
   "outputs": [],
   "source": []
  },
  {
   "cell_type": "markdown",
   "metadata": {},
   "source": [
    "## 14.6"
   ]
  }
 ]
}