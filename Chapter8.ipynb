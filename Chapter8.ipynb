{
 "nbformat": 4,
 "nbformat_minor": 2,
 "metadata": {
  "language_info": {
   "name": "python",
   "codemirror_mode": {
    "name": "ipython",
    "version": 3
   },
   "version": "3.6.5-final"
  },
  "orig_nbformat": 2,
  "file_extension": ".py",
  "mimetype": "text/x-python",
  "name": "python",
  "npconvert_exporter": "python",
  "pygments_lexer": "ipython3",
  "version": 3,
  "kernelspec": {
   "name": "python36564bitanaconda3conda4d2a131d00244148923b6e8eafe61e3b",
   "display_name": "Python 3.6.5 64-bit ('Anaconda3': conda)"
  }
 },
 "cells": [
  {
   "cell_type": "markdown",
   "metadata": {},
   "source": [
    "## 8.1\n",
    "1. I/PRP need/VBP a/DT flight/NN from/IN Atlanta/NN\n",
    "\n",
    "Error: the word \"Atlanta\" should be tagged with NNP instead of NN.\n",
    "\n",
    "2. Does/VBZ this/DT flight/NN serve/VB dinner/NNS\n",
    "\n",
    "Error: word \"dinner\" should be tagged with \"NN\" instead of \"NNS\".\n",
    "\n",
    "3. I/PRP have/VB a/DT friend/NN living/VBG in/IN Denver/NNP.\n",
    "\n",
    "Error: word \"have\" should be tagged with \"VBP\" instead of \"VB\".\n",
    "\n",
    "4. Can/VBP you/PRP list/VB the/DT nonstop/JJ afternoon/NN flights/NNS.\n",
    "\n",
    "Error: word \"Can\" should be tagged with \"MD\" instead of \"VBP\"."
   ]
  },
  {
   "cell_type": "code",
   "execution_count": 9,
   "metadata": {},
   "outputs": [
    {
     "name": "stdout",
     "output_type": "stream",
     "text": "[('I', 'PRP'), ('need', 'VBP'), ('a', 'DT'), ('flight', 'NN'), ('from', 'IN'), ('Atlanta', 'NNP'), ('.', '.')]\n[('Does', 'VBZ'), ('this', 'DT'), ('flight', 'NN'), ('serve', 'NN'), ('dinner', 'NN'), ('.', '.')]\n[('I', 'PRP'), ('have', 'VBP'), ('a', 'DT'), ('friend', 'NN'), ('living', 'NN'), ('in', 'IN'), ('Denver', 'NNP'), ('.', '.')]\n[('Can', 'MD'), ('you', 'PRP'), ('list', 'VB'), ('the', 'DT'), ('nonstop', 'JJ'), ('afternoon', 'NN'), ('flights', 'NNS'), ('.', '.')]\n"
    }
   ],
   "source": [
    "# Use NLTK tools for double check\n",
    "\n",
    "import nltk\n",
    "passage = \"I need a flight from Atlanta. Does this flight serve dinner. I have a friend living in Denver. Can you list the nonstop afternoon flights.\"\n",
    "sentences = nltk.sent_tokenize(passage)\n",
    "for sent in sentences:\n",
    "    tokens = nltk.word_tokenize( sent )\n",
    "    posTags = nltk.pos_tag( tokens )\n",
    "    print( posTags )"
   ]
  },
  {
   "cell_type": "markdown",
   "metadata": {},
   "source": [
    "## 8.2\n",
    "1. It/PRP is/VBZ a/DT nice/JJ night/NN.\n",
    "\n",
    "2. This/DT crap/NN game/NN is/VBZ over/IN a/DT garage/NN in/IN (Fifty-second Street)/NNP...\n",
    "\n",
    "3. ...Nobody/NN ever/RB takes/VBZ the/DT newspapers/NNS she/PRP sells/VBZ ...\n",
    "\n",
    "4. He/PRP is/VBZ a/DT tall/JJ, skinny/JJ guy/NN with/IN a/DT long/JJ, sad/JJ, mean-looking/JJ kisser/NN, and/CC a/DT mournful/JJ voice/NN.\n",
    "\n",
    "5. ... I/PRP am/VBP sitting/VBG in/IN Mindy/NNP's/POS restaurant/NN putting/VBG on/IN the/DT gefilltle/NN fish/NN, which/WDT is/VBZ a/DT dish/NN I/PRP am/VBP very/RB fond/JJ of/IN,...\n",
    "\n",
    "6. When/WRB a/DT guy/NN and/CC a/DT doll/NN get/VBP to/TO taking/VBG peeks/NNS back/RB and/CC forth/RB at/IN each/DT other/PRP?, why there you are indeed.\n"
   ]
  },
  {
   "cell_type": "code",
   "execution_count": 10,
   "metadata": {},
   "outputs": [
    {
     "name": "stdout",
     "output_type": "stream",
     "text": "[('It', 'PRP'), ('is', 'VBZ'), ('a', 'DT'), ('nice', 'JJ'), ('night', 'NN'), ('.', '.')]\n[('This', 'DT'), ('crap', 'NN'), ('game', 'NN'), ('is', 'VBZ'), ('over', 'RP'), ('a', 'DT'), ('garage', 'NN'), ('in', 'IN'), ('Fifty-second', 'NNP'), ('Street', 'NNP'), ('.', '.')]\n[('Nobody', 'NN'), ('ever', 'RB'), ('takes', 'VBZ'), ('the', 'DT'), ('newspapers', 'NNS'), ('she', 'PRP'), ('sells', 'VBZ'), ('.', '.')]\n[('He', 'PRP'), ('is', 'VBZ'), ('a', 'DT'), ('tall', 'JJ'), (',', ','), ('skinny', 'JJ'), ('guy', 'NN'), ('with', 'IN'), ('a', 'DT'), ('long', 'JJ'), (',', ','), ('sad', 'JJ'), (',', ','), ('mean-looking', 'JJ'), ('kisser', 'NN'), (',', ','), ('and', 'CC'), ('a', 'DT'), ('mournful', 'JJ'), ('voice', 'NN'), ('.', '.')]\n[('I', 'PRP'), ('am', 'VBP'), ('sitting', 'VBG'), ('in', 'IN'), ('Mindy', 'NNP'), (\"'s\", 'POS'), ('restaurant', 'NN'), ('putting', 'VBG'), ('on', 'IN'), ('the', 'DT'), ('gefilltle', 'JJ'), ('fish', 'NN'), (',', ','), ('which', 'WDT'), ('is', 'VBZ'), ('a', 'DT'), ('dish', 'JJ'), ('I', 'PRP'), ('am', 'VBP'), ('very', 'RB'), ('fond', 'NN'), ('of', 'IN'), ('.', '.')]\n[('When', 'WRB'), ('a', 'DT'), ('guy', 'NN'), ('and', 'CC'), ('a', 'DT'), ('doll', 'NN'), ('get', 'NN'), ('to', 'TO'), ('taking', 'VBG'), ('peeks', 'NNS'), ('back', 'RB'), ('and', 'CC'), ('forth', 'NN'), ('at', 'IN'), ('each', 'DT'), ('other', 'JJ'), (',', ','), ('why', 'WRB'), ('there', 'EX'), ('you', 'PRP'), ('are', 'VBP'), ('indeed', 'RB'), ('.', '.')]\n"
    }
   ],
   "source": [
    "passage = \"It is a nice night. This crap game is over a garage in Fifty-second Street. Nobody ever takes the newspapers she sells. He is a tall, skinny guy with a long, sad, mean-looking kisser, and a mournful voice. I am sitting in Mindy's restaurant putting on the gefilltle fish, which is a dish I am very fond of. When a guy and a doll get to taking peeks back and forth at each other, why there you are indeed.\"\n",
    "sentences = nltk.sent_tokenize(passage)\n",
    "for sent in sentences:\n",
    "    tokens = nltk.word_tokenize( sent )\n",
    "    posTags = nltk.pos_tag( tokens )\n",
    "    print(posTags)"
   ]
  },
  {
   "cell_type": "markdown",
   "metadata": {},
   "source": [
    "## 8.3~8.5"
   ]
  },
  {
   "cell_type": "markdown",
   "metadata": {},
   "source": [
    "Please see the code under folder \"POS_tagging\"."
   ]
  }
 ]
}